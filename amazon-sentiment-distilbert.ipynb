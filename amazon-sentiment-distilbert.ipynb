{
 "cells": [
  {
   "cell_type": "code",
   "execution_count": 1,
   "metadata": {
    "execution": {
     "iopub.execute_input": "2025-02-14T14:26:32.879831Z",
     "iopub.status.busy": "2025-02-14T14:26:32.879071Z",
     "iopub.status.idle": "2025-02-14T14:26:42.471652Z",
     "shell.execute_reply": "2025-02-14T14:26:42.470562Z",
     "shell.execute_reply.started": "2025-02-14T14:26:32.879786Z"
    },
    "trusted": true
   },
   "outputs": [
    {
     "name": "stdout",
     "output_type": "stream",
     "text": [
      "Collecting evaluate\n",
      "  Downloading evaluate-0.4.3-py3-none-any.whl.metadata (9.2 kB)\n",
      "Requirement already satisfied: datasets>=2.0.0 in /opt/conda/lib/python3.10/site-packages (from evaluate) (3.0.1)\n",
      "Requirement already satisfied: numpy>=1.17 in /opt/conda/lib/python3.10/site-packages (from evaluate) (1.26.4)\n",
      "Requirement already satisfied: dill in /opt/conda/lib/python3.10/site-packages (from evaluate) (0.3.8)\n",
      "Requirement already satisfied: pandas in /opt/conda/lib/python3.10/site-packages (from evaluate) (2.2.2)\n",
      "Requirement already satisfied: requests>=2.19.0 in /opt/conda/lib/python3.10/site-packages (from evaluate) (2.32.3)\n",
      "Requirement already satisfied: tqdm>=4.62.1 in /opt/conda/lib/python3.10/site-packages (from evaluate) (4.66.4)\n",
      "Requirement already satisfied: xxhash in /opt/conda/lib/python3.10/site-packages (from evaluate) (3.4.1)\n",
      "Requirement already satisfied: multiprocess in /opt/conda/lib/python3.10/site-packages (from evaluate) (0.70.16)\n",
      "Requirement already satisfied: fsspec>=2021.05.0 in /opt/conda/lib/python3.10/site-packages (from fsspec[http]>=2021.05.0->evaluate) (2024.6.1)\n",
      "Requirement already satisfied: huggingface-hub>=0.7.0 in /opt/conda/lib/python3.10/site-packages (from evaluate) (0.25.1)\n",
      "Requirement already satisfied: packaging in /opt/conda/lib/python3.10/site-packages (from evaluate) (21.3)\n",
      "Requirement already satisfied: filelock in /opt/conda/lib/python3.10/site-packages (from datasets>=2.0.0->evaluate) (3.15.1)\n",
      "Requirement already satisfied: pyarrow>=15.0.0 in /opt/conda/lib/python3.10/site-packages (from datasets>=2.0.0->evaluate) (16.1.0)\n",
      "Requirement already satisfied: aiohttp in /opt/conda/lib/python3.10/site-packages (from datasets>=2.0.0->evaluate) (3.9.5)\n",
      "Requirement already satisfied: pyyaml>=5.1 in /opt/conda/lib/python3.10/site-packages (from datasets>=2.0.0->evaluate) (6.0.2)\n",
      "Requirement already satisfied: typing-extensions>=3.7.4.3 in /opt/conda/lib/python3.10/site-packages (from huggingface-hub>=0.7.0->evaluate) (4.12.2)\n",
      "Requirement already satisfied: pyparsing!=3.0.5,>=2.0.2 in /opt/conda/lib/python3.10/site-packages (from packaging->evaluate) (3.1.2)\n",
      "Requirement already satisfied: charset-normalizer<4,>=2 in /opt/conda/lib/python3.10/site-packages (from requests>=2.19.0->evaluate) (3.3.2)\n",
      "Requirement already satisfied: idna<4,>=2.5 in /opt/conda/lib/python3.10/site-packages (from requests>=2.19.0->evaluate) (3.7)\n",
      "Requirement already satisfied: urllib3<3,>=1.21.1 in /opt/conda/lib/python3.10/site-packages (from requests>=2.19.0->evaluate) (1.26.18)\n",
      "Requirement already satisfied: certifi>=2017.4.17 in /opt/conda/lib/python3.10/site-packages (from requests>=2.19.0->evaluate) (2024.8.30)\n",
      "Requirement already satisfied: python-dateutil>=2.8.2 in /opt/conda/lib/python3.10/site-packages (from pandas->evaluate) (2.9.0.post0)\n",
      "Requirement already satisfied: pytz>=2020.1 in /opt/conda/lib/python3.10/site-packages (from pandas->evaluate) (2024.1)\n",
      "Requirement already satisfied: tzdata>=2022.7 in /opt/conda/lib/python3.10/site-packages (from pandas->evaluate) (2024.1)\n",
      "Requirement already satisfied: aiosignal>=1.1.2 in /opt/conda/lib/python3.10/site-packages (from aiohttp->datasets>=2.0.0->evaluate) (1.3.1)\n",
      "Requirement already satisfied: attrs>=17.3.0 in /opt/conda/lib/python3.10/site-packages (from aiohttp->datasets>=2.0.0->evaluate) (23.2.0)\n",
      "Requirement already satisfied: frozenlist>=1.1.1 in /opt/conda/lib/python3.10/site-packages (from aiohttp->datasets>=2.0.0->evaluate) (1.4.1)\n",
      "Requirement already satisfied: multidict<7.0,>=4.5 in /opt/conda/lib/python3.10/site-packages (from aiohttp->datasets>=2.0.0->evaluate) (6.0.5)\n",
      "Requirement already satisfied: yarl<2.0,>=1.0 in /opt/conda/lib/python3.10/site-packages (from aiohttp->datasets>=2.0.0->evaluate) (1.9.4)\n",
      "Requirement already satisfied: async-timeout<5.0,>=4.0 in /opt/conda/lib/python3.10/site-packages (from aiohttp->datasets>=2.0.0->evaluate) (4.0.3)\n",
      "Requirement already satisfied: six>=1.5 in /opt/conda/lib/python3.10/site-packages (from python-dateutil>=2.8.2->pandas->evaluate) (1.16.0)\n",
      "Downloading evaluate-0.4.3-py3-none-any.whl (84 kB)\n",
      "\u001b[2K   \u001b[90m━━━━━━━━━━━━━━━━━━━━━━━━━━━━━━━━━━━━━━━━\u001b[0m \u001b[32m84.0/84.0 kB\u001b[0m \u001b[31m3.1 MB/s\u001b[0m eta \u001b[36m0:00:00\u001b[0m\n",
      "\u001b[?25hInstalling collected packages: evaluate\n",
      "Successfully installed evaluate-0.4.3\n"
     ]
    }
   ],
   "source": [
    "! pip install evaluate"
   ]
  },
  {
   "cell_type": "code",
   "execution_count": 2,
   "metadata": {
    "execution": {
     "iopub.execute_input": "2025-02-14T14:26:42.473840Z",
     "iopub.status.busy": "2025-02-14T14:26:42.473553Z",
     "iopub.status.idle": "2025-02-14T14:27:01.924447Z",
     "shell.execute_reply": "2025-02-14T14:27:01.923769Z",
     "shell.execute_reply.started": "2025-02-14T14:26:42.473812Z"
    },
    "trusted": true
   },
   "outputs": [],
   "source": [
    "import pandas as pd\n",
    "import numpy as np\n",
    "import tensorflow as tf\n",
    "from datasets import load_dataset\n",
    "import matplotlib.pyplot as plt\n",
    "import seaborn as sns\n",
    "from sklearn.model_selection import train_test_split\n",
    "from sklearn.preprocessing import LabelEncoder\n",
    "from sklearn.metrics import classification_report,confusion_matrix,accuracy_score,roc_auc_score,f1_score\n",
    "import transformers\n",
    "from transformers import DistilBertTokenizer,DistilBertForSequenceClassification,RobertaModel,RobertaTokenizer,RobertaForSequenceClassification,BertForSequenceClassification,BertTokenizer\n",
    "from transformers import Trainer,TrainingArguments,DataCollatorWithPadding\n",
    "import torch\n",
    "from torch import cuda\n",
    "from torch.utils.data import Dataset, DataLoader\n",
    "from sklearn.metrics import confusion_matrix, classification_report\n",
    "import evaluate "
   ]
  },
  {
   "cell_type": "code",
   "execution_count": 3,
   "metadata": {
    "collapsed": true,
    "execution": {
     "iopub.execute_input": "2025-02-14T14:27:01.925809Z",
     "iopub.status.busy": "2025-02-14T14:27:01.925308Z",
     "iopub.status.idle": "2025-02-14T14:27:05.372534Z",
     "shell.execute_reply": "2025-02-14T14:27:05.371484Z",
     "shell.execute_reply.started": "2025-02-14T14:27:01.925777Z"
    },
    "jupyter": {
     "outputs_hidden": true
    },
    "trusted": true
   },
   "outputs": [
    {
     "data": {
      "application/vnd.jupyter.widget-view+json": {
       "model_id": "0022e0b5e5c944ce974231936dd56c7a",
       "version_major": 2,
       "version_minor": 0
      },
      "text/plain": [
       "README.md:   0%|          | 0.00/28.0 [00:00<?, ?B/s]"
      ]
     },
     "metadata": {},
     "output_type": "display_data"
    },
    {
     "data": {
      "application/vnd.jupyter.widget-view+json": {
       "model_id": "3df4564d467d4603af51c8015fa201c6",
       "version_major": 2,
       "version_minor": 0
      },
      "text/plain": [
       "train.jsonl:   0%|          | 0.00/47.4M [00:00<?, ?B/s]"
      ]
     },
     "metadata": {},
     "output_type": "display_data"
    },
    {
     "data": {
      "application/vnd.jupyter.widget-view+json": {
       "model_id": "9f291085301d472399b41705a2ea9268",
       "version_major": 2,
       "version_minor": 0
      },
      "text/plain": [
       "validation.jsonl:   0%|          | 0.00/1.19M [00:00<?, ?B/s]"
      ]
     },
     "metadata": {},
     "output_type": "display_data"
    },
    {
     "data": {
      "application/vnd.jupyter.widget-view+json": {
       "model_id": "cac948dc41e0481db034643577454e6c",
       "version_major": 2,
       "version_minor": 0
      },
      "text/plain": [
       "test.jsonl:   0%|          | 0.00/1.18M [00:00<?, ?B/s]"
      ]
     },
     "metadata": {},
     "output_type": "display_data"
    },
    {
     "data": {
      "application/vnd.jupyter.widget-view+json": {
       "model_id": "db33b7d7bd564bd1bd610e48c73d823b",
       "version_major": 2,
       "version_minor": 0
      },
      "text/plain": [
       "Generating train split:   0%|          | 0/200000 [00:00<?, ? examples/s]"
      ]
     },
     "metadata": {},
     "output_type": "display_data"
    },
    {
     "data": {
      "application/vnd.jupyter.widget-view+json": {
       "model_id": "f0f693fe60e245ac90e8e57c08139c19",
       "version_major": 2,
       "version_minor": 0
      },
      "text/plain": [
       "Generating validation split:   0%|          | 0/5000 [00:00<?, ? examples/s]"
      ]
     },
     "metadata": {},
     "output_type": "display_data"
    },
    {
     "data": {
      "application/vnd.jupyter.widget-view+json": {
       "model_id": "0372f08555674ef290b09b4799a9caff",
       "version_major": 2,
       "version_minor": 0
      },
      "text/plain": [
       "Generating test split:   0%|          | 0/5000 [00:00<?, ? examples/s]"
      ]
     },
     "metadata": {},
     "output_type": "display_data"
    }
   ],
   "source": [
    "dataset=load_dataset('SetFit/amazon_reviews_multi_en')"
   ]
  },
  {
   "cell_type": "code",
   "execution_count": 7,
   "metadata": {
    "execution": {
     "iopub.execute_input": "2025-02-14T14:27:22.465728Z",
     "iopub.status.busy": "2025-02-14T14:27:22.464821Z",
     "iopub.status.idle": "2025-02-14T14:27:29.572264Z",
     "shell.execute_reply": "2025-02-14T14:27:29.571589Z",
     "shell.execute_reply.started": "2025-02-14T14:27:22.465690Z"
    },
    "trusted": true
   },
   "outputs": [],
   "source": [
    "train_df=pd.DataFrame(dataset['train'])\n",
    "test_df=pd.DataFrame(dataset['test'])\n",
    "valid_df=pd.DataFrame(dataset['validation'])"
   ]
  },
  {
   "cell_type": "code",
   "execution_count": 7,
   "metadata": {
    "execution": {
     "iopub.execute_input": "2025-02-14T12:17:10.885605Z",
     "iopub.status.busy": "2025-02-14T12:17:10.884893Z",
     "iopub.status.idle": "2025-02-14T12:17:10.903842Z",
     "shell.execute_reply": "2025-02-14T12:17:10.903151Z",
     "shell.execute_reply.started": "2025-02-14T12:17:10.885568Z"
    },
    "trusted": true
   },
   "outputs": [
    {
     "data": {
      "text/html": [
       "<div>\n",
       "<style scoped>\n",
       "    .dataframe tbody tr th:only-of-type {\n",
       "        vertical-align: middle;\n",
       "    }\n",
       "\n",
       "    .dataframe tbody tr th {\n",
       "        vertical-align: top;\n",
       "    }\n",
       "\n",
       "    .dataframe thead th {\n",
       "        text-align: right;\n",
       "    }\n",
       "</style>\n",
       "<table border=\"1\" class=\"dataframe\">\n",
       "  <thead>\n",
       "    <tr style=\"text-align: right;\">\n",
       "      <th></th>\n",
       "      <th>id</th>\n",
       "      <th>text</th>\n",
       "      <th>label</th>\n",
       "      <th>label_text</th>\n",
       "      <th>new_labels</th>\n",
       "      <th>le_labels</th>\n",
       "    </tr>\n",
       "  </thead>\n",
       "  <tbody>\n",
       "    <tr>\n",
       "      <th>0</th>\n",
       "      <td>en_0964290</td>\n",
       "      <td>Arrived broken. Manufacturer defect. Two of th...</td>\n",
       "      <td>0</td>\n",
       "      <td>0</td>\n",
       "      <td>Negative</td>\n",
       "      <td>0</td>\n",
       "    </tr>\n",
       "    <tr>\n",
       "      <th>1</th>\n",
       "      <td>en_0690095</td>\n",
       "      <td>the cabinet dot were all detached from backing...</td>\n",
       "      <td>0</td>\n",
       "      <td>0</td>\n",
       "      <td>Negative</td>\n",
       "      <td>0</td>\n",
       "    </tr>\n",
       "    <tr>\n",
       "      <th>2</th>\n",
       "      <td>en_0311558</td>\n",
       "      <td>I received my first order of this product and ...</td>\n",
       "      <td>0</td>\n",
       "      <td>0</td>\n",
       "      <td>Negative</td>\n",
       "      <td>0</td>\n",
       "    </tr>\n",
       "    <tr>\n",
       "      <th>3</th>\n",
       "      <td>en_0044972</td>\n",
       "      <td>This product is a piece of shit. Do not buy. D...</td>\n",
       "      <td>0</td>\n",
       "      <td>0</td>\n",
       "      <td>Negative</td>\n",
       "      <td>0</td>\n",
       "    </tr>\n",
       "    <tr>\n",
       "      <th>4</th>\n",
       "      <td>en_0784379</td>\n",
       "      <td>went through 3 in one day doesn't fit correct ...</td>\n",
       "      <td>0</td>\n",
       "      <td>0</td>\n",
       "      <td>Negative</td>\n",
       "      <td>0</td>\n",
       "    </tr>\n",
       "    <tr>\n",
       "      <th>...</th>\n",
       "      <td>...</td>\n",
       "      <td>...</td>\n",
       "      <td>...</td>\n",
       "      <td>...</td>\n",
       "      <td>...</td>\n",
       "      <td>...</td>\n",
       "    </tr>\n",
       "    <tr>\n",
       "      <th>199995</th>\n",
       "      <td>en_0046316</td>\n",
       "      <td>Cute slippers, my MIL loved them.</td>\n",
       "      <td>4</td>\n",
       "      <td>4</td>\n",
       "      <td>Positive</td>\n",
       "      <td>2</td>\n",
       "    </tr>\n",
       "    <tr>\n",
       "      <th>199996</th>\n",
       "      <td>en_0956024</td>\n",
       "      <td>My 6 year old likes this and keeps him engaged...</td>\n",
       "      <td>4</td>\n",
       "      <td>4</td>\n",
       "      <td>Positive</td>\n",
       "      <td>2</td>\n",
       "    </tr>\n",
       "    <tr>\n",
       "      <th>199997</th>\n",
       "      <td>en_0589358</td>\n",
       "      <td>Replaced my battery with it. Works like new.</td>\n",
       "      <td>4</td>\n",
       "      <td>4</td>\n",
       "      <td>Positive</td>\n",
       "      <td>2</td>\n",
       "    </tr>\n",
       "    <tr>\n",
       "      <th>199998</th>\n",
       "      <td>en_0970602</td>\n",
       "      <td>I like them, holding up well.</td>\n",
       "      <td>4</td>\n",
       "      <td>4</td>\n",
       "      <td>Positive</td>\n",
       "      <td>2</td>\n",
       "    </tr>\n",
       "    <tr>\n",
       "      <th>199999</th>\n",
       "      <td>en_0750030</td>\n",
       "      <td>Very good for my village lights are bright I l...</td>\n",
       "      <td>4</td>\n",
       "      <td>4</td>\n",
       "      <td>Positive</td>\n",
       "      <td>2</td>\n",
       "    </tr>\n",
       "  </tbody>\n",
       "</table>\n",
       "<p>200000 rows × 6 columns</p>\n",
       "</div>"
      ],
      "text/plain": [
       "                id                                               text  label  \\\n",
       "0       en_0964290  Arrived broken. Manufacturer defect. Two of th...      0   \n",
       "1       en_0690095  the cabinet dot were all detached from backing...      0   \n",
       "2       en_0311558  I received my first order of this product and ...      0   \n",
       "3       en_0044972  This product is a piece of shit. Do not buy. D...      0   \n",
       "4       en_0784379  went through 3 in one day doesn't fit correct ...      0   \n",
       "...            ...                                                ...    ...   \n",
       "199995  en_0046316                  Cute slippers, my MIL loved them.      4   \n",
       "199996  en_0956024  My 6 year old likes this and keeps him engaged...      4   \n",
       "199997  en_0589358       Replaced my battery with it. Works like new.      4   \n",
       "199998  en_0970602                      I like them, holding up well.      4   \n",
       "199999  en_0750030  Very good for my village lights are bright I l...      4   \n",
       "\n",
       "       label_text new_labels  le_labels  \n",
       "0               0   Negative          0  \n",
       "1               0   Negative          0  \n",
       "2               0   Negative          0  \n",
       "3               0   Negative          0  \n",
       "4               0   Negative          0  \n",
       "...           ...        ...        ...  \n",
       "199995          4   Positive          2  \n",
       "199996          4   Positive          2  \n",
       "199997          4   Positive          2  \n",
       "199998          4   Positive          2  \n",
       "199999          4   Positive          2  \n",
       "\n",
       "[200000 rows x 6 columns]"
      ]
     },
     "execution_count": 7,
     "metadata": {},
     "output_type": "execute_result"
    }
   ],
   "source": [
    "train_df"
   ]
  },
  {
   "cell_type": "code",
   "execution_count": 8,
   "metadata": {
    "execution": {
     "iopub.execute_input": "2025-02-14T12:17:15.747203Z",
     "iopub.status.busy": "2025-02-14T12:17:15.746861Z",
     "iopub.status.idle": "2025-02-14T12:17:15.775053Z",
     "shell.execute_reply": "2025-02-14T12:17:15.774160Z",
     "shell.execute_reply.started": "2025-02-14T12:17:15.747173Z"
    },
    "trusted": true
   },
   "outputs": [
    {
     "name": "stdout",
     "output_type": "stream",
     "text": [
      "cuda\n"
     ]
    }
   ],
   "source": [
    "device = 'cuda' if cuda.is_available() else 'cpu'\n",
    "print(device)"
   ]
  },
  {
   "cell_type": "code",
   "execution_count": 26,
   "metadata": {
    "execution": {
     "iopub.execute_input": "2025-02-14T14:40:14.692080Z",
     "iopub.status.busy": "2025-02-14T14:40:14.691452Z",
     "iopub.status.idle": "2025-02-14T14:40:14.696336Z",
     "shell.execute_reply": "2025-02-14T14:40:14.695436Z",
     "shell.execute_reply.started": "2025-02-14T14:40:14.692048Z"
    },
    "trusted": true
   },
   "outputs": [],
   "source": [
    "def compute_metrics(example):\n",
    "    clf_metrics = evaluate.combine([\"accuracy\", \"f1\", \"precision\", \"recall\"])\n",
    "    labels = example.label_ids\n",
    "    preds = example.predictions.argmax(-1)\n",
    "    return  clf_metrics.compute(predictions=preds,references=labels)"
   ]
  },
  {
   "cell_type": "code",
   "execution_count": 10,
   "metadata": {
    "execution": {
     "iopub.execute_input": "2025-02-14T12:17:48.043132Z",
     "iopub.status.busy": "2025-02-14T12:17:48.042795Z",
     "iopub.status.idle": "2025-02-14T12:17:48.062570Z",
     "shell.execute_reply": "2025-02-14T12:17:48.061760Z",
     "shell.execute_reply.started": "2025-02-14T12:17:48.043102Z"
    },
    "trusted": true
   },
   "outputs": [
    {
     "data": {
      "text/plain": [
       "new_labels\n",
       "Negative    80000\n",
       "Positive    80000\n",
       "Neutral     40000\n",
       "Name: count, dtype: int64"
      ]
     },
     "execution_count": 10,
     "metadata": {},
     "output_type": "execute_result"
    }
   ],
   "source": [
    "train_df['new_labels'].value_counts()"
   ]
  },
  {
   "cell_type": "markdown",
   "metadata": {},
   "source": [
    "## Treating 3 star review as negative"
   ]
  },
  {
   "cell_type": "code",
   "execution_count": 19,
   "metadata": {
    "execution": {
     "iopub.execute_input": "2025-02-14T14:39:44.082165Z",
     "iopub.status.busy": "2025-02-14T14:39:44.081250Z",
     "iopub.status.idle": "2025-02-14T14:39:44.096662Z",
     "shell.execute_reply": "2025-02-14T14:39:44.095934Z",
     "shell.execute_reply.started": "2025-02-14T14:39:44.082128Z"
    },
    "trusted": true
   },
   "outputs": [],
   "source": [
    "train_df['new_labels']=train_df['label'].map({0:'Negative',1:'Negative',2:'Negative',3:'Positive',4:'Positive'})\n",
    "test_df['new_labels']=test_df['label'].map({0:'Negative',1:'Negative',2:'Negative',3:'Positive',4:'Positive'})\n",
    "valid_df['new_labels']=valid_df['label'].map({0:'Negative',1:'Negative',2:'Negative',3:'Positive',4:'Positive'})"
   ]
  },
  {
   "cell_type": "code",
   "execution_count": 20,
   "metadata": {
    "execution": {
     "iopub.execute_input": "2025-02-14T14:39:45.924958Z",
     "iopub.status.busy": "2025-02-14T14:39:45.924136Z",
     "iopub.status.idle": "2025-02-14T14:39:45.959425Z",
     "shell.execute_reply": "2025-02-14T14:39:45.958764Z",
     "shell.execute_reply.started": "2025-02-14T14:39:45.924924Z"
    },
    "trusted": true
   },
   "outputs": [],
   "source": [
    "le=LabelEncoder()\n",
    "train_df['le_labels']=le.fit_transform(train_df['new_labels'])\n",
    "valid_df['le_labels']=le.transform(valid_df['new_labels'])\n",
    "test_df['le_labels']=le.transform(test_df['new_labels'])"
   ]
  },
  {
   "cell_type": "code",
   "execution_count": 21,
   "metadata": {
    "execution": {
     "iopub.execute_input": "2025-02-14T14:39:46.872262Z",
     "iopub.status.busy": "2025-02-14T14:39:46.871482Z",
     "iopub.status.idle": "2025-02-14T14:39:46.884336Z",
     "shell.execute_reply": "2025-02-14T14:39:46.883482Z",
     "shell.execute_reply.started": "2025-02-14T14:39:46.872229Z"
    },
    "trusted": true
   },
   "outputs": [
    {
     "data": {
      "text/html": [
       "<div>\n",
       "<style scoped>\n",
       "    .dataframe tbody tr th:only-of-type {\n",
       "        vertical-align: middle;\n",
       "    }\n",
       "\n",
       "    .dataframe tbody tr th {\n",
       "        vertical-align: top;\n",
       "    }\n",
       "\n",
       "    .dataframe thead th {\n",
       "        text-align: right;\n",
       "    }\n",
       "</style>\n",
       "<table border=\"1\" class=\"dataframe\">\n",
       "  <thead>\n",
       "    <tr style=\"text-align: right;\">\n",
       "      <th></th>\n",
       "      <th>id</th>\n",
       "      <th>text</th>\n",
       "      <th>label</th>\n",
       "      <th>label_text</th>\n",
       "      <th>new_labels</th>\n",
       "      <th>le_labels</th>\n",
       "    </tr>\n",
       "  </thead>\n",
       "  <tbody>\n",
       "    <tr>\n",
       "      <th>0</th>\n",
       "      <td>en_0964290</td>\n",
       "      <td>Arrived broken. Manufacturer defect. Two of th...</td>\n",
       "      <td>0</td>\n",
       "      <td>0</td>\n",
       "      <td>Negative</td>\n",
       "      <td>0</td>\n",
       "    </tr>\n",
       "    <tr>\n",
       "      <th>1</th>\n",
       "      <td>en_0690095</td>\n",
       "      <td>the cabinet dot were all detached from backing...</td>\n",
       "      <td>0</td>\n",
       "      <td>0</td>\n",
       "      <td>Negative</td>\n",
       "      <td>0</td>\n",
       "    </tr>\n",
       "    <tr>\n",
       "      <th>2</th>\n",
       "      <td>en_0311558</td>\n",
       "      <td>I received my first order of this product and ...</td>\n",
       "      <td>0</td>\n",
       "      <td>0</td>\n",
       "      <td>Negative</td>\n",
       "      <td>0</td>\n",
       "    </tr>\n",
       "    <tr>\n",
       "      <th>3</th>\n",
       "      <td>en_0044972</td>\n",
       "      <td>This product is a piece of shit. Do not buy. D...</td>\n",
       "      <td>0</td>\n",
       "      <td>0</td>\n",
       "      <td>Negative</td>\n",
       "      <td>0</td>\n",
       "    </tr>\n",
       "    <tr>\n",
       "      <th>4</th>\n",
       "      <td>en_0784379</td>\n",
       "      <td>went through 3 in one day doesn't fit correct ...</td>\n",
       "      <td>0</td>\n",
       "      <td>0</td>\n",
       "      <td>Negative</td>\n",
       "      <td>0</td>\n",
       "    </tr>\n",
       "    <tr>\n",
       "      <th>...</th>\n",
       "      <td>...</td>\n",
       "      <td>...</td>\n",
       "      <td>...</td>\n",
       "      <td>...</td>\n",
       "      <td>...</td>\n",
       "      <td>...</td>\n",
       "    </tr>\n",
       "    <tr>\n",
       "      <th>199995</th>\n",
       "      <td>en_0046316</td>\n",
       "      <td>Cute slippers, my MIL loved them.</td>\n",
       "      <td>4</td>\n",
       "      <td>4</td>\n",
       "      <td>Positive</td>\n",
       "      <td>1</td>\n",
       "    </tr>\n",
       "    <tr>\n",
       "      <th>199996</th>\n",
       "      <td>en_0956024</td>\n",
       "      <td>My 6 year old likes this and keeps him engaged...</td>\n",
       "      <td>4</td>\n",
       "      <td>4</td>\n",
       "      <td>Positive</td>\n",
       "      <td>1</td>\n",
       "    </tr>\n",
       "    <tr>\n",
       "      <th>199997</th>\n",
       "      <td>en_0589358</td>\n",
       "      <td>Replaced my battery with it. Works like new.</td>\n",
       "      <td>4</td>\n",
       "      <td>4</td>\n",
       "      <td>Positive</td>\n",
       "      <td>1</td>\n",
       "    </tr>\n",
       "    <tr>\n",
       "      <th>199998</th>\n",
       "      <td>en_0970602</td>\n",
       "      <td>I like them, holding up well.</td>\n",
       "      <td>4</td>\n",
       "      <td>4</td>\n",
       "      <td>Positive</td>\n",
       "      <td>1</td>\n",
       "    </tr>\n",
       "    <tr>\n",
       "      <th>199999</th>\n",
       "      <td>en_0750030</td>\n",
       "      <td>Very good for my village lights are bright I l...</td>\n",
       "      <td>4</td>\n",
       "      <td>4</td>\n",
       "      <td>Positive</td>\n",
       "      <td>1</td>\n",
       "    </tr>\n",
       "  </tbody>\n",
       "</table>\n",
       "<p>200000 rows × 6 columns</p>\n",
       "</div>"
      ],
      "text/plain": [
       "                id                                               text  label  \\\n",
       "0       en_0964290  Arrived broken. Manufacturer defect. Two of th...      0   \n",
       "1       en_0690095  the cabinet dot were all detached from backing...      0   \n",
       "2       en_0311558  I received my first order of this product and ...      0   \n",
       "3       en_0044972  This product is a piece of shit. Do not buy. D...      0   \n",
       "4       en_0784379  went through 3 in one day doesn't fit correct ...      0   \n",
       "...            ...                                                ...    ...   \n",
       "199995  en_0046316                  Cute slippers, my MIL loved them.      4   \n",
       "199996  en_0956024  My 6 year old likes this and keeps him engaged...      4   \n",
       "199997  en_0589358       Replaced my battery with it. Works like new.      4   \n",
       "199998  en_0970602                      I like them, holding up well.      4   \n",
       "199999  en_0750030  Very good for my village lights are bright I l...      4   \n",
       "\n",
       "       label_text new_labels  le_labels  \n",
       "0               0   Negative          0  \n",
       "1               0   Negative          0  \n",
       "2               0   Negative          0  \n",
       "3               0   Negative          0  \n",
       "4               0   Negative          0  \n",
       "...           ...        ...        ...  \n",
       "199995          4   Positive          1  \n",
       "199996          4   Positive          1  \n",
       "199997          4   Positive          1  \n",
       "199998          4   Positive          1  \n",
       "199999          4   Positive          1  \n",
       "\n",
       "[200000 rows x 6 columns]"
      ]
     },
     "execution_count": 21,
     "metadata": {},
     "output_type": "execute_result"
    }
   ],
   "source": [
    "train_df"
   ]
  },
  {
   "cell_type": "code",
   "execution_count": 22,
   "metadata": {
    "execution": {
     "iopub.execute_input": "2025-02-14T14:39:49.886277Z",
     "iopub.status.busy": "2025-02-14T14:39:49.885453Z",
     "iopub.status.idle": "2025-02-14T14:39:50.413702Z",
     "shell.execute_reply": "2025-02-14T14:39:50.412994Z",
     "shell.execute_reply.started": "2025-02-14T14:39:49.886236Z"
    },
    "trusted": true
   },
   "outputs": [
    {
     "name": "stderr",
     "output_type": "stream",
     "text": [
      "Some weights of DistilBertForSequenceClassification were not initialized from the model checkpoint at distilbert-base-uncased and are newly initialized: ['classifier.bias', 'classifier.weight', 'pre_classifier.bias', 'pre_classifier.weight']\n",
      "You should probably TRAIN this model on a down-stream task to be able to use it for predictions and inference.\n"
     ]
    }
   ],
   "source": [
    "tokenizer =DistilBertTokenizer.from_pretrained('distilbert-base-uncased')\n",
    "model = DistilBertForSequenceClassification.from_pretrained(\"distilbert-base-uncased\", num_labels=2).to(device)"
   ]
  },
  {
   "cell_type": "code",
   "execution_count": 23,
   "metadata": {
    "execution": {
     "iopub.execute_input": "2025-02-14T14:39:51.784985Z",
     "iopub.status.busy": "2025-02-14T14:39:51.784647Z",
     "iopub.status.idle": "2025-02-14T14:39:51.791055Z",
     "shell.execute_reply": "2025-02-14T14:39:51.790202Z",
     "shell.execute_reply.started": "2025-02-14T14:39:51.784954Z"
    },
    "trusted": true
   },
   "outputs": [],
   "source": [
    "class ReviewData(Dataset):\n",
    "    def __init__(self,dataframe,tokenizer):\n",
    "        self.tokenizer=tokenizer\n",
    "        self.data=dataframe\n",
    "        self.text=dataframe.text\n",
    "        self.targets=dataframe.le_labels\n",
    "        # self.max_len=max_len\n",
    "        \n",
    "    def __len__(self):\n",
    "        return len(self.targets)\n",
    "    \n",
    "    def __getitem__(self,index):\n",
    "        text = str(self.text[index])\n",
    "        label = torch.tensor(self.targets[index], dtype=torch.long)\n",
    "        inputs = self.tokenizer(\n",
    "            text,\n",
    "            truncation=True,\n",
    "            return_tensors='pt',\n",
    "            padding='max_length',\n",
    "        )\n",
    "        ids = inputs['input_ids'].squeeze(0)\n",
    "        mask = inputs['attention_mask'].squeeze(0)\n",
    "\n",
    "\n",
    "        return {\n",
    "            'input_ids': ids,\n",
    "            'mask': mask,\n",
    "            'labels': label\n",
    "        }"
   ]
  },
  {
   "cell_type": "code",
   "execution_count": 24,
   "metadata": {
    "execution": {
     "iopub.execute_input": "2025-02-14T14:39:55.772183Z",
     "iopub.status.busy": "2025-02-14T14:39:55.771367Z",
     "iopub.status.idle": "2025-02-14T14:39:55.776458Z",
     "shell.execute_reply": "2025-02-14T14:39:55.775547Z",
     "shell.execute_reply.started": "2025-02-14T14:39:55.772151Z"
    },
    "trusted": true
   },
   "outputs": [],
   "source": [
    "training_set=ReviewData(train_df,tokenizer)\n",
    "valid_set=ReviewData(valid_df,tokenizer)\n",
    "test_set=ReviewData(test_df,tokenizer)"
   ]
  },
  {
   "cell_type": "code",
   "execution_count": 25,
   "metadata": {
    "collapsed": true,
    "execution": {
     "iopub.execute_input": "2025-02-14T14:40:07.992029Z",
     "iopub.status.busy": "2025-02-14T14:40:07.991229Z",
     "iopub.status.idle": "2025-02-14T14:40:08.007409Z",
     "shell.execute_reply": "2025-02-14T14:40:08.006478Z",
     "shell.execute_reply.started": "2025-02-14T14:40:07.991996Z"
    },
    "jupyter": {
     "outputs_hidden": true
    },
    "trusted": true
   },
   "outputs": [
    {
     "data": {
      "text/plain": [
       "{'input_ids': tensor([  101,  3369,  3714,  1012,  7751, 21262,  1012,  2048,  1997,  1996,\n",
       "          3456,  1997,  1996,  2918,  2020,  2025,  3294,  2719,  1010,  2061,\n",
       "          2045,  2001,  2053,  2126,  2000, 19274,  1996, 14542,  2869,  1012,\n",
       "          1045,  4895, 23947, 18655,  1996,  2972,  3242,  1998,  8051,  2077,\n",
       "         15103,  2023,  1012,  2061,  1010,  1045,  1005,  2222,  5247,  3807,\n",
       "          1996,  3815,  1997,  2051,  8362,  2039,  1996,  2878, 11809,  2518,\n",
       "          1998,  4604,  2009,  2067,  2007,  1037,  1015,  1011,  2732,  3319,\n",
       "          1997,  2112,  1997,  1037,  3242,  1045,  2196,  2288,  2000,  4133,\n",
       "          1999,  1012,  1045,  2097,  2175,  2061,  2521,  2004,  2000,  2421,\n",
       "          1037,  3861,  1997,  2054,  2037, 13341, 18282,  2075,  1998,  3737,\n",
       "         16375,  2832,  4771,  2295,  1012,  1045,  2097,  2022, 20221,  2000,\n",
       "          4965,  2153,  1012,  2009,  3084,  2033,  4687,  2065,  2045,  4995,\n",
       "          1005,  1056,  4394,  5090,  1998,  6753,  2008,  2123,  1005,  1056,\n",
       "         17727, 14728,  1996,  3320,  2832,  1012,   102,     0,     0,     0,\n",
       "             0,     0,     0,     0,     0,     0,     0,     0,     0,     0,\n",
       "             0,     0,     0,     0,     0,     0,     0,     0,     0,     0,\n",
       "             0,     0,     0,     0,     0,     0,     0,     0,     0,     0,\n",
       "             0,     0,     0,     0,     0,     0,     0,     0,     0,     0,\n",
       "             0,     0,     0,     0,     0,     0,     0,     0,     0,     0,\n",
       "             0,     0,     0,     0,     0,     0,     0,     0,     0,     0,\n",
       "             0,     0,     0,     0,     0,     0,     0,     0,     0,     0,\n",
       "             0,     0,     0,     0,     0,     0,     0,     0,     0,     0,\n",
       "             0,     0,     0,     0,     0,     0,     0,     0,     0,     0,\n",
       "             0,     0,     0,     0,     0,     0,     0,     0,     0,     0,\n",
       "             0,     0,     0,     0,     0,     0,     0,     0,     0,     0,\n",
       "             0,     0,     0,     0,     0,     0,     0,     0,     0,     0,\n",
       "             0,     0,     0,     0,     0,     0,     0,     0,     0,     0,\n",
       "             0,     0,     0,     0,     0,     0,     0,     0,     0,     0,\n",
       "             0,     0,     0,     0,     0,     0,     0,     0,     0,     0,\n",
       "             0,     0,     0,     0,     0,     0,     0,     0,     0,     0,\n",
       "             0,     0,     0,     0,     0,     0,     0,     0,     0,     0,\n",
       "             0,     0,     0,     0,     0,     0,     0,     0,     0,     0,\n",
       "             0,     0,     0,     0,     0,     0,     0,     0,     0,     0,\n",
       "             0,     0,     0,     0,     0,     0,     0,     0,     0,     0,\n",
       "             0,     0,     0,     0,     0,     0,     0,     0,     0,     0,\n",
       "             0,     0,     0,     0,     0,     0,     0,     0,     0,     0,\n",
       "             0,     0,     0,     0,     0,     0,     0,     0,     0,     0,\n",
       "             0,     0,     0,     0,     0,     0,     0,     0,     0,     0,\n",
       "             0,     0,     0,     0,     0,     0,     0,     0,     0,     0,\n",
       "             0,     0,     0,     0,     0,     0,     0,     0,     0,     0,\n",
       "             0,     0,     0,     0,     0,     0,     0,     0,     0,     0,\n",
       "             0,     0,     0,     0,     0,     0,     0,     0,     0,     0,\n",
       "             0,     0,     0,     0,     0,     0,     0,     0,     0,     0,\n",
       "             0,     0,     0,     0,     0,     0,     0,     0,     0,     0,\n",
       "             0,     0,     0,     0,     0,     0,     0,     0,     0,     0,\n",
       "             0,     0,     0,     0,     0,     0,     0,     0,     0,     0,\n",
       "             0,     0,     0,     0,     0,     0,     0,     0,     0,     0,\n",
       "             0,     0,     0,     0,     0,     0,     0,     0,     0,     0,\n",
       "             0,     0,     0,     0,     0,     0,     0,     0,     0,     0,\n",
       "             0,     0,     0,     0,     0,     0,     0,     0,     0,     0,\n",
       "             0,     0,     0,     0,     0,     0,     0,     0,     0,     0,\n",
       "             0,     0]),\n",
       " 'mask': tensor([1, 1, 1, 1, 1, 1, 1, 1, 1, 1, 1, 1, 1, 1, 1, 1, 1, 1, 1, 1, 1, 1, 1, 1,\n",
       "         1, 1, 1, 1, 1, 1, 1, 1, 1, 1, 1, 1, 1, 1, 1, 1, 1, 1, 1, 1, 1, 1, 1, 1,\n",
       "         1, 1, 1, 1, 1, 1, 1, 1, 1, 1, 1, 1, 1, 1, 1, 1, 1, 1, 1, 1, 1, 1, 1, 1,\n",
       "         1, 1, 1, 1, 1, 1, 1, 1, 1, 1, 1, 1, 1, 1, 1, 1, 1, 1, 1, 1, 1, 1, 1, 1,\n",
       "         1, 1, 1, 1, 1, 1, 1, 1, 1, 1, 1, 1, 1, 1, 1, 1, 1, 1, 1, 1, 1, 1, 1, 1,\n",
       "         1, 1, 1, 1, 1, 1, 1, 1, 1, 1, 1, 1, 1, 1, 1, 1, 1, 0, 0, 0, 0, 0, 0, 0,\n",
       "         0, 0, 0, 0, 0, 0, 0, 0, 0, 0, 0, 0, 0, 0, 0, 0, 0, 0, 0, 0, 0, 0, 0, 0,\n",
       "         0, 0, 0, 0, 0, 0, 0, 0, 0, 0, 0, 0, 0, 0, 0, 0, 0, 0, 0, 0, 0, 0, 0, 0,\n",
       "         0, 0, 0, 0, 0, 0, 0, 0, 0, 0, 0, 0, 0, 0, 0, 0, 0, 0, 0, 0, 0, 0, 0, 0,\n",
       "         0, 0, 0, 0, 0, 0, 0, 0, 0, 0, 0, 0, 0, 0, 0, 0, 0, 0, 0, 0, 0, 0, 0, 0,\n",
       "         0, 0, 0, 0, 0, 0, 0, 0, 0, 0, 0, 0, 0, 0, 0, 0, 0, 0, 0, 0, 0, 0, 0, 0,\n",
       "         0, 0, 0, 0, 0, 0, 0, 0, 0, 0, 0, 0, 0, 0, 0, 0, 0, 0, 0, 0, 0, 0, 0, 0,\n",
       "         0, 0, 0, 0, 0, 0, 0, 0, 0, 0, 0, 0, 0, 0, 0, 0, 0, 0, 0, 0, 0, 0, 0, 0,\n",
       "         0, 0, 0, 0, 0, 0, 0, 0, 0, 0, 0, 0, 0, 0, 0, 0, 0, 0, 0, 0, 0, 0, 0, 0,\n",
       "         0, 0, 0, 0, 0, 0, 0, 0, 0, 0, 0, 0, 0, 0, 0, 0, 0, 0, 0, 0, 0, 0, 0, 0,\n",
       "         0, 0, 0, 0, 0, 0, 0, 0, 0, 0, 0, 0, 0, 0, 0, 0, 0, 0, 0, 0, 0, 0, 0, 0,\n",
       "         0, 0, 0, 0, 0, 0, 0, 0, 0, 0, 0, 0, 0, 0, 0, 0, 0, 0, 0, 0, 0, 0, 0, 0,\n",
       "         0, 0, 0, 0, 0, 0, 0, 0, 0, 0, 0, 0, 0, 0, 0, 0, 0, 0, 0, 0, 0, 0, 0, 0,\n",
       "         0, 0, 0, 0, 0, 0, 0, 0, 0, 0, 0, 0, 0, 0, 0, 0, 0, 0, 0, 0, 0, 0, 0, 0,\n",
       "         0, 0, 0, 0, 0, 0, 0, 0, 0, 0, 0, 0, 0, 0, 0, 0, 0, 0, 0, 0, 0, 0, 0, 0,\n",
       "         0, 0, 0, 0, 0, 0, 0, 0, 0, 0, 0, 0, 0, 0, 0, 0, 0, 0, 0, 0, 0, 0, 0, 0,\n",
       "         0, 0, 0, 0, 0, 0, 0, 0]),\n",
       " 'labels': tensor(0)}"
      ]
     },
     "execution_count": 25,
     "metadata": {},
     "output_type": "execute_result"
    }
   ],
   "source": [
    "training_set[0]"
   ]
  },
  {
   "cell_type": "code",
   "execution_count": 27,
   "metadata": {
    "execution": {
     "iopub.execute_input": "2025-02-14T14:40:28.743211Z",
     "iopub.status.busy": "2025-02-14T14:40:28.742506Z",
     "iopub.status.idle": "2025-02-14T14:40:28.772815Z",
     "shell.execute_reply": "2025-02-14T14:40:28.771918Z",
     "shell.execute_reply.started": "2025-02-14T14:40:28.743179Z"
    },
    "trusted": true
   },
   "outputs": [],
   "source": [
    "args = TrainingArguments(\n",
    "    output_dir = \"output\",\n",
    "    per_device_train_batch_size=16,\n",
    "    per_device_eval_batch_size = 16,\n",
    "    learning_rate = 3e-5,\n",
    "    num_train_epochs = 2,\n",
    "    eval_strategy = 'epoch',\n",
    "    report_to=\"none\",\n",
    "    eval_steps=10000,  \n",
    "    logging_steps=10000,        \n",
    "    save_steps=10000,                \n",
    "    save_total_limit=2, \n",
    "    weight_decay=0.01\n",
    ")"
   ]
  },
  {
   "cell_type": "code",
   "execution_count": 28,
   "metadata": {
    "execution": {
     "iopub.execute_input": "2025-02-14T14:40:39.587821Z",
     "iopub.status.busy": "2025-02-14T14:40:39.586931Z",
     "iopub.status.idle": "2025-02-14T14:40:39.605781Z",
     "shell.execute_reply": "2025-02-14T14:40:39.605100Z",
     "shell.execute_reply.started": "2025-02-14T14:40:39.587783Z"
    },
    "trusted": true
   },
   "outputs": [],
   "source": [
    "trainer = Trainer(model=model,\n",
    "                  args=args,\n",
    "                  train_dataset = training_set,\n",
    "                  eval_dataset = valid_set,\n",
    "                  compute_metrics=compute_metrics,\n",
    "                  tokenizer = tokenizer,\n",
    "               )"
   ]
  },
  {
   "cell_type": "code",
   "execution_count": 29,
   "metadata": {
    "execution": {
     "iopub.execute_input": "2025-02-14T14:40:41.465875Z",
     "iopub.status.busy": "2025-02-14T14:40:41.465187Z",
     "iopub.status.idle": "2025-02-14T17:50:00.334252Z",
     "shell.execute_reply": "2025-02-14T17:50:00.333531Z",
     "shell.execute_reply.started": "2025-02-14T14:40:41.465843Z"
    },
    "trusted": true
   },
   "outputs": [
    {
     "data": {
      "text/html": [
       "\n",
       "    <div>\n",
       "      \n",
       "      <progress value='25000' max='25000' style='width:300px; height:20px; vertical-align: middle;'></progress>\n",
       "      [25000/25000 3:09:17, Epoch 2/2]\n",
       "    </div>\n",
       "    <table border=\"1\" class=\"dataframe\">\n",
       "  <thead>\n",
       " <tr style=\"text-align: left;\">\n",
       "      <th>Epoch</th>\n",
       "      <th>Training Loss</th>\n",
       "      <th>Validation Loss</th>\n",
       "      <th>Accuracy</th>\n",
       "      <th>F1</th>\n",
       "      <th>Precision</th>\n",
       "      <th>Recall</th>\n",
       "    </tr>\n",
       "  </thead>\n",
       "  <tbody>\n",
       "    <tr>\n",
       "      <td>1</td>\n",
       "      <td>0.304400</td>\n",
       "      <td>0.261081</td>\n",
       "      <td>0.896200</td>\n",
       "      <td>0.865718</td>\n",
       "      <td>0.897051</td>\n",
       "      <td>0.836500</td>\n",
       "    </tr>\n",
       "    <tr>\n",
       "      <td>2</td>\n",
       "      <td>0.232600</td>\n",
       "      <td>0.267743</td>\n",
       "      <td>0.900800</td>\n",
       "      <td>0.874112</td>\n",
       "      <td>0.887629</td>\n",
       "      <td>0.861000</td>\n",
       "    </tr>\n",
       "  </tbody>\n",
       "</table><p>"
      ],
      "text/plain": [
       "<IPython.core.display.HTML object>"
      ]
     },
     "metadata": {},
     "output_type": "display_data"
    },
    {
     "data": {
      "text/plain": [
       "TrainOutput(global_step=25000, training_loss=0.2579209912109375, metrics={'train_runtime': 11358.3209, 'train_samples_per_second': 35.216, 'train_steps_per_second': 2.201, 'total_flos': 5.29869594624e+16, 'train_loss': 0.2579209912109375, 'epoch': 2.0})"
      ]
     },
     "execution_count": 29,
     "metadata": {},
     "output_type": "execute_result"
    }
   ],
   "source": [
    "trainer.train()"
   ]
  },
  {
   "cell_type": "code",
   "execution_count": 30,
   "metadata": {
    "execution": {
     "iopub.execute_input": "2025-02-14T17:50:32.411513Z",
     "iopub.status.busy": "2025-02-14T17:50:32.410840Z",
     "iopub.status.idle": "2025-02-14T17:51:24.332035Z",
     "shell.execute_reply": "2025-02-14T17:51:24.331217Z",
     "shell.execute_reply.started": "2025-02-14T17:50:32.411473Z"
    },
    "trusted": true
   },
   "outputs": [
    {
     "data": {
      "text/html": [],
      "text/plain": [
       "<IPython.core.display.HTML object>"
      ]
     },
     "metadata": {},
     "output_type": "display_data"
    },
    {
     "name": "stdout",
     "output_type": "stream",
     "text": [
      "Confusion Matrix:\n",
      "[[2787  213]\n",
      " [ 309 1691]]\n",
      "              precision    recall  f1-score   support\n",
      "\n",
      "    Negative       0.90      0.93      0.91      3000\n",
      "    Positive       0.89      0.85      0.87      2000\n",
      "\n",
      "    accuracy                           0.90      5000\n",
      "   macro avg       0.89      0.89      0.89      5000\n",
      "weighted avg       0.90      0.90      0.90      5000\n",
      "\n"
     ]
    },
    {
     "data": {
      "text/plain": [
       "<Axes: >"
      ]
     },
     "execution_count": 30,
     "metadata": {},
     "output_type": "execute_result"
    },
    {
     "data": {
      "image/png": "[encoded data removed]",
      "text/plain": [
       "<Figure size 640x480 with 2 Axes>"
      ]
     },
     "metadata": {},
     "output_type": "display_data"
    }
   ],
   "source": [
    "predictions_output = trainer.predict(test_set)\n",
    "logits = predictions_output.predictions\n",
    "true_labels = predictions_output.label_ids\n",
    "predicted_labels = np.argmax(logits, axis=1)\n",
    "cm = confusion_matrix(true_labels, predicted_labels)\n",
    "report = classification_report(true_labels, predicted_labels, target_names=[\"Negative\", \"Positive\"]) \n",
    "print(\"Confusion Matrix:\")\n",
    "print(cm)\n",
    "print(report)\n",
    "classes=[\"Negative\", \"Positive\"]\n",
    "sns.heatmap(cm,annot=True,fmt='g',xticklabels=classes,yticklabels=classes)"
   ]
  },
  {
   "cell_type": "code",
   "execution_count": 31,
   "metadata": {
    "execution": {
     "iopub.execute_input": "2025-02-14T17:53:13.309725Z",
     "iopub.status.busy": "2025-02-14T17:53:13.309347Z",
     "iopub.status.idle": "2025-02-14T17:54:05.002668Z",
     "shell.execute_reply": "2025-02-14T17:54:05.001791Z",
     "shell.execute_reply.started": "2025-02-14T17:53:13.309696Z"
    },
    "trusted": true
   },
   "outputs": [
    {
     "data": {
      "text/html": [],
      "text/plain": [
       "<IPython.core.display.HTML object>"
      ]
     },
     "metadata": {},
     "output_type": "display_data"
    },
    {
     "name": "stdout",
     "output_type": "stream",
     "text": [
      "Confusion Matrix:\n",
      "[[2782  218]\n",
      " [ 278 1722]]\n",
      "              precision    recall  f1-score   support\n",
      "\n",
      "    Negative       0.91      0.93      0.92      3000\n",
      "    Positive       0.89      0.86      0.87      2000\n",
      "\n",
      "    accuracy                           0.90      5000\n",
      "   macro avg       0.90      0.89      0.90      5000\n",
      "weighted avg       0.90      0.90      0.90      5000\n",
      "\n"
     ]
    },
    {
     "data": {
      "text/plain": [
       "<Axes: >"
      ]
     },
     "execution_count": 31,
     "metadata": {},
     "output_type": "execute_result"
    },
    {
     "data": {
      "image/png": "[encoded data removed]",
      "text/plain": [
       "<Figure size 640x480 with 2 Axes>"
      ]
     },
     "metadata": {},
     "output_type": "display_data"
    }
   ],
   "source": [
    "predictions_output = trainer.predict(valid_set)\n",
    "logits = predictions_output.predictions\n",
    "true_labels = predictions_output.label_ids\n",
    "predicted_labels = np.argmax(logits, axis=1)\n",
    "cm = confusion_matrix(true_labels, predicted_labels)\n",
    "report = classification_report(true_labels, predicted_labels, target_names=[\"Negative\", \"Positive\"]) \n",
    "print(\"Confusion Matrix:\")\n",
    "print(cm)\n",
    "print(report)\n",
    "classes=[\"Negative\", \"Positive\"]\n",
    "sns.heatmap(cm,annot=True,fmt='g',xticklabels=classes,yticklabels=classes)"
   ]
  },
  {
   "cell_type": "code",
   "execution_count": 32,
   "metadata": {
    "execution": {
     "iopub.execute_input": "2025-02-14T17:54:26.529006Z",
     "iopub.status.busy": "2025-02-14T17:54:26.528676Z",
     "iopub.status.idle": "2025-02-14T17:54:27.554970Z",
     "shell.execute_reply": "2025-02-14T17:54:27.554085Z",
     "shell.execute_reply.started": "2025-02-14T17:54:26.528978Z"
    },
    "trusted": true
   },
   "outputs": [
    {
     "name": "stderr",
     "output_type": "stream",
     "text": [
      "/opt/conda/lib/python3.10/pty.py:89: RuntimeWarning: os.fork() was called. os.fork() is incompatible with multithreaded code, and JAX is multithreaded, so this will likely lead to a deadlock.\n",
      "  pid, fd = os.forkpty()\n"
     ]
    }
   ],
   "source": [
    "! mkdir /kaggle/working/distilbert_model"
   ]
  },
  {
   "cell_type": "code",
   "execution_count": 33,
   "metadata": {
    "execution": {
     "iopub.execute_input": "2025-02-14T17:54:37.812739Z",
     "iopub.status.busy": "2025-02-14T17:54:37.811867Z",
     "iopub.status.idle": "2025-02-14T17:54:38.512681Z",
     "shell.execute_reply": "2025-02-14T17:54:38.511768Z",
     "shell.execute_reply.started": "2025-02-14T17:54:37.812702Z"
    },
    "trusted": true
   },
   "outputs": [
    {
     "data": {
      "text/plain": [
       "('/kaggle/working/distilbert_model/tokenizer_config.json',\n",
       " '/kaggle/working/distilbert_model/special_tokens_map.json',\n",
       " '/kaggle/working/distilbert_model/vocab.txt',\n",
       " '/kaggle/working/distilbert_model/added_tokens.json')"
      ]
     },
     "execution_count": 33,
     "metadata": {},
     "output_type": "execute_result"
    }
   ],
   "source": [
    "trainer.save_model(\"/kaggle/working/distilbert_model\")\n",
    "tokenizer.save_pretrained(\"/kaggle/working/distilbert_model\")"
   ]
  },
  {
   "cell_type": "code",
   "execution_count": 36,
   "metadata": {
    "execution": {
     "iopub.execute_input": "2025-02-14T17:57:26.573260Z",
     "iopub.status.busy": "2025-02-14T17:57:26.572891Z",
     "iopub.status.idle": "2025-02-14T17:57:40.120146Z",
     "shell.execute_reply": "2025-02-14T17:57:40.119272Z",
     "shell.execute_reply.started": "2025-02-14T17:57:26.573229Z"
    },
    "trusted": true
   },
   "outputs": [
    {
     "data": {
      "text/plain": [
       "'/kaggle/working/distilbert.zip'"
      ]
     },
     "execution_count": 36,
     "metadata": {},
     "output_type": "execute_result"
    }
   ],
   "source": [
    "import shutil\n",
    "shutil.make_archive('distilbert', 'zip', '/kaggle/working/distilbert_model')"
   ]
  },
  {
   "cell_type": "code",
   "execution_count": 47,
   "metadata": {
    "execution": {
     "iopub.execute_input": "2025-02-14T18:08:39.397849Z",
     "iopub.status.busy": "2025-02-14T18:08:39.397053Z",
     "iopub.status.idle": "2025-02-14T18:08:39.425905Z",
     "shell.execute_reply": "2025-02-14T18:08:39.424989Z",
     "shell.execute_reply.started": "2025-02-14T18:08:39.397815Z"
    },
    "trusted": true
   },
   "outputs": [
    {
     "name": "stdout",
     "output_type": "stream",
     "text": [
      "1\n",
      "tensor([[0.0801, 0.9563]], device='cuda:0', grad_fn=<SigmoidBackward0>)\n"
     ]
    }
   ],
   "source": [
    "text = \"This product is amazing!\"\n",
    "inputs = tokenizer(text, return_tensors=\"pt\").to(device)\n",
    "outputs = model(**inputs)\n",
    "logits = outputs.logits\n",
    "sentiment = torch.argmax(logits, dim=1).item()\n",
    "print(sentiment)\n",
    "print(torch.sigmoid(logits))"
   ]
  }
 ],
 "metadata": {
  "kaggle": {
   "accelerator": "gpu",
   "dataSources": [],
   "dockerImageVersionId": 30787,
   "isGpuEnabled": true,
   "isInternetEnabled": true,
   "language": "python",
   "sourceType": "notebook"
  },
  "kernelspec": {
   "display_name": "Python 3",
   "language": "python",
   "name": "python3"
  },
  "language_info": {
   "codemirror_mode": {
    "name": "ipython",
    "version": 3
   },
   "file_extension": ".py",
   "mimetype": "text/x-python",
   "name": "python",
   "nbconvert_exporter": "python",
   "pygments_lexer": "ipython3",
   "version": "3.10.14"
  }
 },
 "nbformat": 4,
 "nbformat_minor": 4
}
